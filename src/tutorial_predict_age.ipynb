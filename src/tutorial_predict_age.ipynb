{
 "cells": [
  {
   "cell_type": "code",
   "execution_count": 1,
   "id": "f1062181-6ebc-453d-97b0-f92b88ebdaa9",
   "metadata": {},
   "outputs": [],
   "source": [
    "import os\n",
    "import numpy as np\n",
    "import pandas as pd\n",
    "\n",
    "import torch\n",
    "\n",
    "from modelwrapper import Modelwrapper\n",
    "from imgdataset import ImgDataset_withaugment"
   ]
  },
  {
   "cell_type": "code",
   "execution_count": 2,
   "id": "5bd6a7a7-602d-4d02-a8f0-f65c025bb872",
   "metadata": {},
   "outputs": [],
   "source": [
    "# specify input files\n",
    "device = torch.device(\"cuda:0\" if torch.cuda.is_available() else \"cpu\")\n",
    "\n",
    "model_name = 'regnety_32'\n",
    "pheno_name = 'age'# 'gender'\n",
    "\n",
    "cmodel_ckpt = f'../model_ckpt/{pheno_name}_{model_name}_v0.pth'\n",
    "csv_file = f'../result_biomarker_interpretation/input_imgs/imgs_{pheno_name}.csv'\n",
    "img_dir = '../result_biomarker_interpretation/input_imgs/'\n",
    "result_dir = '../result_biomarker_interpretation/'\n",
    "\n",
    "batchsize = 2"
   ]
  },
  {
   "cell_type": "code",
   "execution_count": 3,
   "id": "f0e47f02-b654-433f-b6e8-c90fdd68b687",
   "metadata": {},
   "outputs": [],
   "source": [
    "num_classes = 1 if pheno_name=='age' else 2\n",
    "mwrapper = Modelwrapper(num_classes=num_classes)\n",
    "cmodel = getattr(mwrapper, model_name)().to(device)\n",
    "cmodel.load_state_dict(torch.load(cmodel_ckpt))\n",
    "cmodel.eval()\n",
    "\n",
    "image_datasets = ImgDataset_withaugment(csv_file=csv_file, root_dir=img_dir, crop='center')\n",
    "dataloader = torch.utils.data.DataLoader(image_datasets, batch_size=batchsize, num_workers=4)\n",
    "dataloader_iterator = iter(dataloader)\n"
   ]
  },
  {
   "cell_type": "code",
   "execution_count": 4,
   "id": "12333ca4-9f38-4d07-9783-91caf2c9c70f",
   "metadata": {},
   "outputs": [
    {
     "name": "stdout",
     "output_type": "stream",
     "text": [
      "             filename  class  predicted_age\n",
      "0  image_0_age_61.png     61      58.069225\n",
      "1  image_1_age_61.png     61      62.588211\n",
      "2  image_2_age_72.png     72      73.754265\n",
      "3  image_3_age_53.png     53      53.196304\n"
     ]
    }
   ],
   "source": [
    "img_names = []\n",
    "y_true = []\n",
    "y_preds = []\n",
    "\n",
    "for inputs, labels, img_name in dataloader:\n",
    "    img_names.extend(list(img_name))\n",
    "    y_true.extend(labels.tolist())\n",
    "    inputs = inputs.to(device)\n",
    "    labels = labels.to(device)\n",
    "    preds = cmodel(inputs)\n",
    "    if num_classes==2:\n",
    "        _, preds = torch.max(preds, 1)\n",
    "    y_preds.extend(preds.cpu().detach().numpy().flatten())\n",
    "\n",
    "df = pd.DataFrame({'filename':img_names, 'class':y_true, f'predicted_{pheno_name}':y_preds})\n",
    "df.to_csv(os.path.join(result_dir, f'imgs_{pheno_name}_predicted.csv'), index=False)\n",
    "print(df.head())"
   ]
  }
 ],
 "metadata": {
  "kernelspec": {
   "display_name": "Python 3 (ipykernel)",
   "language": "python",
   "name": "python3"
  },
  "language_info": {
   "codemirror_mode": {
    "name": "ipython",
    "version": 3
   },
   "file_extension": ".py",
   "mimetype": "text/x-python",
   "name": "python",
   "nbconvert_exporter": "python",
   "pygments_lexer": "ipython3",
   "version": "3.9.10"
  }
 },
 "nbformat": 4,
 "nbformat_minor": 5
}
